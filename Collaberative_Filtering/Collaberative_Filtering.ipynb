{
 "cells": [
  {
   "cell_type": "code",
   "execution_count": 1,
   "metadata": {},
   "outputs": [],
   "source": [
    "from pyspark import SparkConf, SparkContext\n",
    "import math"
   ]
  },
  {
   "cell_type": "markdown",
   "metadata": {},
   "source": [
    "### Item-item cosine similarity w/ subtract mean"
   ]
  },
  {
   "cell_type": "code",
   "execution_count": 2,
   "metadata": {},
   "outputs": [],
   "source": [
    "conf = SparkConf() \\\n",
    "        .setMaster(\"local\") \\\n",
    "        .setAppName(\"rating-prediction\") \\\n",
    "        .set(\"spark.default.parallelism\", 4) \\\n",
    "        .set('spark.driver.memory', \"40G\") \\\n",
    "        .set('spark.driver.maxResultSize', '20G') \\\n",
    "        .set('spark.worker.cleanup.enabled', 'True') \\\n",
    "        .set('spark.sql.shuffle.partitions', 500) # Increasing SQL shuffle partitions\n",
    "    \n",
    "sc = SparkContext.getOrCreate(conf=conf)\n",
    "\n",
    "ratings_dir = './test.csv'\n",
    "\n",
    "# userId, movieId, rating, timestamp\n",
    "raw_rdd = sc.textFile(ratings_dir)\n",
    "\n",
    "header = raw_rdd.first()\n",
    "\n",
    "# out: mov_id, (usr_id, rating)\n",
    "ratings = raw_rdd.filter(lambda line : line != header and len(line) > 1) \\\n",
    "        .map(lambda line: line.split(\",\")) \\\n",
    "        .map(lambda x: (x[1], (x[0], float(x[2]) ) )).cache()\n",
    "\n",
    "# ratings.collect()"
   ]
  },
  {
   "cell_type": "code",
   "execution_count": 3,
   "metadata": {},
   "outputs": [],
   "source": [
    "def subtract_mean(lst):\n",
    "    total = 0\n",
    "    for p in lst:\n",
    "        u_id, rating = p\n",
    "        total += rating\n",
    "        \n",
    "    mean = total / len(lst)\n",
    "    return [(p[0], p[1]-mean) for p in lst]\n",
    "\n",
    "\n",
    "def calc_sim(x):\n",
    "    p1_id, p1_lst = x[0]\n",
    "    p2_id, p2_lst = x[1]\n",
    "    \n",
    "    if p1_id == p2_id:\n",
    "        return (p1_id, p2_id), 1.0\n",
    "    \n",
    "    d1, d2 = dict(p1_lst), dict(p2_lst)\n",
    "    \n",
    "    sum_of_prod = 0\n",
    "    sum_of_sqr1, sum_of_sqr2 = 0,0\n",
    "    \n",
    "    for k in d1.keys():\n",
    "        sum_of_sqr1 += d1[k]**2\n",
    "        if k in d2.keys():\n",
    "            sum_of_prod += d1[k] * d2[k]\n",
    "            \n",
    "    for k in d2.keys():\n",
    "        sum_of_sqr2 += d2[k]**2\n",
    "    \n",
    "    if sum_of_prod == 0:\n",
    "        sim = 0\n",
    "    else:\n",
    "        sim = sum_of_prod / (math.sqrt(sum_of_sqr1) * math.sqrt(sum_of_sqr2))\n",
    "    \n",
    "    return (p1_id, p2_id), sim"
   ]
  },
  {
   "cell_type": "code",
   "execution_count": null,
   "metadata": {},
   "outputs": [],
   "source": [
    "# mean = ratings.mapValues(lambda v: (v[1], 1)) \\\n",
    "#         .reduceByKey(lambda a,b: (a[0]+b[0], a[1]+b[1])) \\\n",
    "#         .mapValues(lambda v: v[0]/v[1])\n",
    "\n",
    "# sub_mean = ratings.join(mean) \\\n",
    "#         .mapValues(lambda v: [(v[0][0], v[0][1]-v[1])]) \\\n",
    "#         .reduceByKey(lambda a,b: a+b)\\\n",
    "#         .sortByKey() \\\n",
    "\n",
    "# sub_mean.take(5)"
   ]
  },
  {
   "cell_type": "code",
   "execution_count": 4,
   "metadata": {},
   "outputs": [],
   "source": [
    "# out: mov_id, [list of (usr_id, rating)...]\n",
    "sub_mean = ratings.groupByKey() \\\n",
    "            .mapValues(subtract_mean).cache()\n",
    "    \n",
    "# sub_mean.take(5)"
   ]
  },
  {
   "cell_type": "code",
   "execution_count": 5,
   "metadata": {},
   "outputs": [],
   "source": [
    "# out: ((mov_id, mov_id), sim)\n",
    "sim = sub_mean.cartesian(sub_mean) \\\n",
    "        .map(calc_sim).cache()\n",
    "#sim.take(5)"
   ]
  },
  {
   "cell_type": "markdown",
   "metadata": {},
   "source": [
    "#### Ordering and write output file"
   ]
  },
  {
   "cell_type": "code",
   "execution_count": 6,
   "metadata": {
    "scrolled": true
   },
   "outputs": [],
   "source": [
    "def write_sim_out(sim):\n",
    "    sim_out = sim \\\n",
    "        .map(lambda x: ((int(x[0][0]), int(x[0][1])), x[1]) ) \\\n",
    "        .sortByKey() \\\n",
    "        .filter(lambda x: x[0][0] < x[0][1])\n",
    "    \n",
    "    out_file = \"./part1_out_test.txt\"\n",
    "    with open(out_file,'w') as f:\n",
    "        for e in sim_out.collect():  \n",
    "            print(\"{},    {:.8f}\".format(e[0], float(e[1])))\n",
    "            f.write(\"({}, {}), {:.8f}\\n\".format(e[0][0], e[0][1],e[1]) )\n",
    "            \n",
    "    sim_out.unpersist()"
   ]
  },
  {
   "cell_type": "code",
   "execution_count": 7,
   "metadata": {},
   "outputs": [
    {
     "name": "stdout",
     "output_type": "stream",
     "text": [
      "(1, 2),    -0.17854212\n",
      "(1, 3),    0.41403934\n",
      "(1, 4),    -0.10245014\n",
      "(1, 5),    -0.30895719\n",
      "(1, 6),    0.58703951\n",
      "(2, 3),    -0.52623481\n",
      "(2, 4),    0.46800784\n",
      "(2, 5),    0.39891072\n",
      "(2, 6),    -0.30643976\n",
      "(3, 4),    -0.62398065\n",
      "(3, 5),    -0.28426762\n",
      "(3, 6),    0.50636968\n",
      "(4, 5),    0.45873490\n",
      "(4, 6),    -0.23533936\n",
      "(5, 6),    -0.21591676\n"
     ]
    }
   ],
   "source": [
    "write_sim_out(sim)"
   ]
  },
  {
   "cell_type": "markdown",
   "metadata": {},
   "source": [
    "### Rating Prediction"
   ]
  },
  {
   "cell_type": "markdown",
   "metadata": {},
   "source": [
    "- Select top 10 similar items to calculate the movie rating for each user, then predict missing by taking weighted average"
   ]
  },
  {
   "cell_type": "code",
   "execution_count": 8,
   "metadata": {},
   "outputs": [],
   "source": [
    "# out: (mov_id, [(mov_id, sim), ...])\n",
    "item_item_sim = sim \\\n",
    "        .filter(lambda x: int(x[0][0]) != int(x[0][1])) \\\n",
    "        .map(lambda x: (x[0][0], (x[0][1],x[1]) )) \\\n",
    "        .groupByKey().mapValues(list).cache()\n",
    "\n",
    "item_item_sim.take(5)"
   ]
  },
  {
   "cell_type": "code",
   "execution_count": 9,
   "metadata": {},
   "outputs": [],
   "source": [
    "# out: (usr_id, [(mov_id, rating), ...])\n",
    "user = ratings \\\n",
    "        .map(lambda x: (x[1][0], (x[0], x[1][1]))) \\\n",
    "        .groupByKey().mapValues(list)\n",
    "\n",
    "# user.take(3)"
   ]
  },
  {
   "cell_type": "code",
   "execution_count": 10,
   "metadata": {},
   "outputs": [],
   "source": [
    "item = ratings.map(lambda x: x[0]).distinct()\n",
    "\n",
    "# item.take(6)"
   ]
  },
  {
   "cell_type": "code",
   "execution_count": 11,
   "metadata": {},
   "outputs": [
    {
     "data": {
      "text/plain": [
       "[('1', 3.6),\n",
       " ('4', 3.4),\n",
       " ('2', 3.1666666666666665),\n",
       " ('3', 3.0),\n",
       " ('5', 3.3333333333333335),\n",
       " ('6', 2.6)]"
      ]
     },
     "execution_count": 11,
     "metadata": {},
     "output_type": "execute_result"
    }
   ],
   "source": [
    "def item_mean_mapper(x):\n",
    "    return (x[0], sum(x[1]) / len(x[1]))\n",
    "\n",
    "\n",
    "item_mean = ratings \\\n",
    "            .map(lambda x: (x[0], x[1][1])) \\\n",
    "            .groupByKey() \\\n",
    "            .map(item_mean_mapper)\n",
    "\n",
    "item_mean.take(6)"
   ]
  },
  {
   "cell_type": "code",
   "execution_count": 12,
   "metadata": {},
   "outputs": [],
   "source": [
    "def new_mapper(x):\n",
    "    u_id, u_rating_lst = x[0]\n",
    "    m_id = x[1]\n",
    "    \n",
    "    u_rating_dic = dict(u_rating_lst)\n",
    "    \n",
    "    if m_id not in u_rating_dic.keys():\n",
    "        \n",
    "        return [(m_id, (u_id, u_rating_lst))]\n",
    "    else:\n",
    "        return []\n",
    "    \n",
    "    \n",
    "def get_weight_avg(u_rating_dic, sim_mov_lst):\n",
    "    i, count = 0, 0\n",
    "    sum_of_prod, sum_of_wieght = 0, 0\n",
    "\n",
    "    sim_mov_lst = sorted(sim_mov_lst, key = \\\n",
    "                lambda x: x[1], reverse=True)\n",
    "\n",
    "    while (i < len(sim_mov_lst) and count < 10):\n",
    "        sim_mov_id, sim = sim_mov_lst[i]\n",
    "        if sim <= 0:\n",
    "            sim = 0;\n",
    "            \n",
    "        if sim_mov_id in u_rating_dic.keys():\n",
    "            count += 1\n",
    "            sum_of_prod += sim * u_rating_dic[sim_mov_id]\n",
    "            sum_of_wieght += sim\n",
    " \n",
    "        i += 1\n",
    "    \n",
    "    if sum_of_prod==0 or sum_of_wieght==0 :\n",
    "        return 0\n",
    "    else:\n",
    "        return sum_of_prod / sum_of_wieght\n",
    "    \n",
    "    \n",
    "def predict(x):\n",
    "    m_id = x[0]\n",
    "    u_id, u_rating_lst = x[1][0]\n",
    "    sim_mov_lst = x[1][1]\n",
    "    \n",
    "    predict = get_weight_avg(dict(u_rating_lst), sim_mov_lst)\n",
    "    \n",
    "    return ((u_id, m_id), predict)"
   ]
  },
  {
   "cell_type": "code",
   "execution_count": 13,
   "metadata": {},
   "outputs": [],
   "source": [
    "new_join = user \\\n",
    "        .cartesian(item) \\\n",
    "        .flatMap(new_mapper) \\\n",
    "        .join(item_item_sim) \\\n",
    "        .map(predict) \\\n",
    "        .map(lambda x: ((int(x[0][0]), int(x[0][1])), x[1])).sortByKey().cache()\n",
    "\n"
   ]
  },
  {
   "cell_type": "code",
   "execution_count": 14,
   "metadata": {},
   "outputs": [
    {
     "data": {
      "text/plain": [
       "[((1, 2), 0),\n",
       " ((1, 4), 0),\n",
       " ((1, 5), 0),\n",
       " ((2, 1), 4.0),\n",
       " ((2, 2), 2.0),\n",
       " ((2, 5), 2.0),\n",
       " ((2, 6), 4.0),\n",
       " ((3, 3), 3.0),\n",
       " ((4, 1), 1.0),\n",
       " ((4, 4), 3.5050029734328474),\n",
       " ((4, 6), 1.0),\n",
       " ((5, 1), 2.586406866934817),\n",
       " ((5, 2), 4.539852143274253),\n",
       " ((6, 2), 2.0),\n",
       " ((6, 3), 5.0),\n",
       " ((6, 4), 2.0),\n",
       " ((6, 6), 5.0),\n",
       " ((7, 1), 3.0),\n",
       " ((7, 4), 4.0),\n",
       " ((7, 5), 4.0),\n",
       " ((7, 6), 3.0),\n",
       " ((8, 1), 2.0),\n",
       " ((8, 2), 4.0),\n",
       " ((8, 3), 2.0),\n",
       " ((8, 5), 4.0),\n",
       " ((9, 2), 0),\n",
       " ((9, 4), 0),\n",
       " ((9, 5), 0),\n",
       " ((9, 6), 4.536889128793153),\n",
       " ((10, 1), 3.0),\n",
       " ((10, 4), 2.0),\n",
       " ((10, 5), 2.0),\n",
       " ((10, 6), 3.0),\n",
       " ((12, 1), 0),\n",
       " ((12, 3), 0),\n",
       " ((12, 4), 3.9899940531343057),\n",
       " ((12, 6), 0)]"
      ]
     },
     "execution_count": 14,
     "metadata": {},
     "output_type": "execute_result"
    }
   ],
   "source": [
    "new_join.collect()"
   ]
  },
  {
   "cell_type": "code",
   "execution_count": null,
   "metadata": {},
   "outputs": [],
   "source": [
    "out_file = \"./part2_out_test.txt\"\n",
    "with open(out_file,'w') as f:   \n",
    "    for e in new_join.collect():  \n",
    "        f.write(\"({}, {}), {:.8f}\\n\".format(e[0][0], e[0][1],e[1]) )"
   ]
  },
  {
   "cell_type": "code",
   "execution_count": null,
   "metadata": {},
   "outputs": [],
   "source": []
  },
  {
   "cell_type": "markdown",
   "metadata": {},
   "source": [
    " ### Altered version for rating prediction\n",
    " ####  - use average of simialr item if the similar item is unrated"
   ]
  },
  {
   "cell_type": "code",
   "execution_count": 16,
   "metadata": {},
   "outputs": [],
   "source": [
    "ii_sim_with_mean = sim \\\n",
    "        .filter(lambda x: int(x[0][0]) != int(x[0][1])) \\\n",
    "        .map(lambda x: (x[0][0], (x[0][1],x[1]) )) \\\n",
    "        .join(item_mean) \\\n",
    "        .map(lambda x: (x[1][0][0], (x[0] ,x[1][0][1], x[1][1]) )) \\\n",
    "        .groupByKey().mapValues(list).cache()\n",
    "\n",
    "# ii_sim_with_mean.take(3)"
   ]
  },
  {
   "cell_type": "code",
   "execution_count": 17,
   "metadata": {},
   "outputs": [],
   "source": [
    "def altered_get_weight_avg(u_rating_dic, sim_mov_lst):\n",
    "    i, count = 0, 0\n",
    "    sum_of_prod, sum_of_wieght = 0, 0\n",
    "\n",
    "    sim_mov_lst = sorted(sim_mov_lst, key = \\\n",
    "                lambda x: x[1], reverse=True)\n",
    "\n",
    "    while (i < len(sim_mov_lst) and count < 10):\n",
    "        sim_mov_id, sim, sim_mov_avg = sim_mov_lst[i]\n",
    "        if sim <= 0:\n",
    "            sim = 0;\n",
    "            \n",
    "        if sim_mov_id not in u_rating_dic.keys():        \n",
    "            sum_of_prod += sim * sim_mov_avg\n",
    "            sum_of_wieght += sim\n",
    "        else:\n",
    "            sum_of_prod += sim * u_rating_dic[sim_mov_id]\n",
    "            sum_of_wieght += sim\n",
    " \n",
    "        count += 1\n",
    "        i += 1\n",
    "    \n",
    "    if sum_of_prod==0 or sum_of_wieght==0 :\n",
    "        return 0\n",
    "    else:\n",
    "        return sum_of_prod / sum_of_wieght\n",
    "    \n",
    "    \n",
    "def altered_predict(x):\n",
    "    m_id = x[0]\n",
    "    u_id, u_rating_lst = x[1][0]\n",
    "    sim_mov_lst = x[1][1]\n",
    "    \n",
    "    predict = altered_get_weight_avg(dict(u_rating_lst), sim_mov_lst)\n",
    "    \n",
    "    return ((u_id, m_id), predict)"
   ]
  },
  {
   "cell_type": "code",
   "execution_count": 18,
   "metadata": {},
   "outputs": [],
   "source": [
    "altered_join = user \\\n",
    "        .cartesian(item) \\\n",
    "        .flatMap(new_mapper) \\\n",
    "        .join(ii_sim_with_mean) \\\n",
    "        .map(altered_predict) \\\n",
    "        .map(lambda x: ((int(x[0][0]), int(x[0][1])), x[1])).sortByKey().cache()"
   ]
  },
  {
   "cell_type": "code",
   "execution_count": 19,
   "metadata": {},
   "outputs": [
    {
     "data": {
      "text/plain": [
       "[((1, 2), 3.369323476218284),\n",
       " ((1, 4), 3.2491661710945254),\n",
       " ((1, 5), 3.2914712964590955),\n",
       " ((2, 1), 3.179030386291256),\n",
       " ((2, 2), 2.6135304756343296),\n",
       " ((2, 5), 2.5426435177045215),\n",
       " ((2, 6), 3.7852443484827387),\n",
       " ((3, 3), 3.0),\n",
       " ((4, 1), 1.9382509870957076),\n",
       " ((4, 4), 3.5050029734328474),\n",
       " ((4, 6), 2.3959117348622),\n",
       " ((5, 1), 2.586406866934817),\n",
       " ((5, 2), 4.539852143274253),\n",
       " ((6, 2), 2.755793000583954),\n",
       " ((6, 3), 3.67962262948449),\n",
       " ((6, 4), 2.5891701356716545),\n",
       " ((6, 6), 4.073778257586309),\n",
       " ((7, 1), 2.765437253226073),\n",
       " ((7, 4), 3.670001982288565),\n",
       " ((7, 5), 3.679073809105183),\n",
       " ((7, 6), 3.3221334772758926),\n",
       " ((8, 1), 2.413593133065183),\n",
       " ((8, 2), 3.693234762182835),\n",
       " ((8, 3), 2.7197484196563275),\n",
       " ((8, 5), 3.6123974873539133),\n",
       " ((9, 2), 3.369323476218284),\n",
       " ((9, 4), 3.2491661710945254),\n",
       " ((9, 5), 3.2914712964590955),\n",
       " ((9, 6), 4.536889128793153),\n",
       " ((10, 1), 2.765437253226073),\n",
       " ((10, 4), 2.6599960354228704),\n",
       " ((10, 5), 2.7488277787545745),\n",
       " ((10, 6), 3.3221334772758926),\n",
       " ((12, 1), 2.765437253226073),\n",
       " ((12, 3), 3.0498427622852042),\n",
       " ((12, 4), 3.9899940531343057),\n",
       " ((12, 6), 3.3221334772758926)]"
      ]
     },
     "execution_count": 19,
     "metadata": {},
     "output_type": "execute_result"
    }
   ],
   "source": [
    "altered_join.collect()"
   ]
  },
  {
   "cell_type": "code",
   "execution_count": null,
   "metadata": {},
   "outputs": [],
   "source": []
  }
 ],
 "metadata": {
  "kernelspec": {
   "display_name": "Python 3",
   "language": "python",
   "name": "python3"
  },
  "language_info": {
   "codemirror_mode": {
    "name": "ipython",
    "version": 3
   },
   "file_extension": ".py",
   "mimetype": "text/x-python",
   "name": "python",
   "nbconvert_exporter": "python",
   "pygments_lexer": "ipython3",
   "version": "3.8.6"
  }
 },
 "nbformat": 4,
 "nbformat_minor": 4
}
